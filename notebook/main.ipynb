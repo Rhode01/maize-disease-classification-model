{
 "cells": [
  {
   "cell_type": "code",
   "execution_count": 2,
   "id": "917f8741",
   "metadata": {},
   "outputs": [],
   "source": [
    "import tensorflow as tf\n",
    "import os"
   ]
  },
  {
   "cell_type": "code",
   "execution_count": 3,
   "id": "a55df5a7",
   "metadata": {},
   "outputs": [
    {
     "name": "stdout",
     "output_type": "stream",
     "text": [
      "total images deleted are 0\n"
     ]
    }
   ],
   "source": [
    "dataset_path =\"dataset/data\"\n",
    "bad_images =0\n",
    "data_classes = [\"Blight\",\"Common_Rust\",\"Gray_Leaf_Spot\",\"Healthy\"]\n",
    "for classname in data_classes:\n",
    "    folder_path = os.path.join(\"..\",dataset_path, classname)\n",
    "    for fname in os.listdir(folder_path):\n",
    "        file = os.path.join(folder_path,fname)\n",
    "        try:\n",
    "            img_bytes = tf.io.read_file(file)\n",
    "            tf.io.decode_image(img_bytes)\n",
    "        except Exception as e:\n",
    "            print(f\"Failed to decode an image at {file} deleting the image\")\n",
    "            bad_images +=1\n",
    "            os.remove(file)\n",
    "print(f\"total images deleted are {bad_images}\")\n",
    "    "
   ]
  }
 ],
 "metadata": {
  "kernelspec": {
   "display_name": ".venv",
   "language": "python",
   "name": "python3"
  },
  "language_info": {
   "codemirror_mode": {
    "name": "ipython",
    "version": 3
   },
   "file_extension": ".py",
   "mimetype": "text/x-python",
   "name": "python",
   "nbconvert_exporter": "python",
   "pygments_lexer": "ipython3",
   "version": "3.12.3"
  }
 },
 "nbformat": 4,
 "nbformat_minor": 5
}
